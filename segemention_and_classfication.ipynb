{
 "cells": [
  {
   "cell_type": "code",
   "execution_count": 1,
   "id": "fbae697c",
   "metadata": {
    "ExecuteTime": {
     "end_time": "2023-10-30T01:08:55.745222Z",
     "start_time": "2023-10-30T01:08:51.946765Z"
    }
   },
   "outputs": [],
   "source": [
    "import pickle\n",
    "import yaml\n",
    "import torchvision.transforms as transforms\n",
    "import torchvision\n",
    "import torchvision.datasets as datasets\n",
    "import albumentations as A\n",
    "import os\n",
    "from torch.utils.data import Dataset,DataLoader,ConcatDataset\n",
    "import cv2\n",
    "import numpy as np\n",
    "import torch\n",
    "from PIL import Image\n",
    "import torch.utils.data\n",
    "from albumentations.core.composition import Compose, OneOf\n",
    "import torch.nn.functional as F\n",
    "import pandas as pd"
   ]
  },
  {
   "cell_type": "code",
   "execution_count": 2,
   "id": "f17313d4",
   "metadata": {
    "ExecuteTime": {
     "end_time": "2023-10-30T01:08:55.755019Z",
     "start_time": "2023-10-30T01:08:55.747319Z"
    }
   },
   "outputs": [
    {
     "name": "stdout",
     "output_type": "stream",
     "text": [
      "--------------------\n",
      "arch: Classification\n",
      "batch_size: 4\n",
      "dataset: test\n",
      "deep_supervision: True\n",
      "early_stopping: -1\n",
      "epochs: 100\n",
      "factor: 0.1\n",
      "gamma: 0.6666666666666666\n",
      "img_ext: .png\n",
      "input_channels: 3\n",
      "input_h: 256\n",
      "input_w: 256\n",
      "loss: BCEWithLogitsLoss\n",
      "lr: 0.001\n",
      "mask_ext: .png\n",
      "milestones: 1,2\n",
      "min_lr: 1e-05\n",
      "momentum: 0.9\n",
      "name: test_Classification_wDS_f\n",
      "nesterov: False\n",
      "num_classes: 1\n",
      "num_labelclasses: 3\n",
      "num_workers: 4\n",
      "optimizer: SGD\n",
      "path: inputs/test/\n",
      "patience: 2\n",
      "scheduler: CosineAnnealingLR\n",
      "seg_model: ./models/test_NestedUNet_wDS/model.pth\n",
      "weight_decay: 0.0001\n",
      "--------------------\n"
     ]
    }
   ],
   "source": [
    "config={} \n",
    "with open('D:/PythonProject/pytorch-nested-unet-master/models/test_Classification_wDS_f/config.yml' , 'r') as f:\n",
    "         config=yaml.safe_load(f)\n",
    "print('-' * 20)\n",
    "for key in config:\n",
    "    print('%s: %s' % (key, config[key]))\n",
    "print('-' * 20)"
   ]
  },
  {
   "cell_type": "code",
   "execution_count": 3,
   "id": "16e01748",
   "metadata": {
    "ExecuteTime": {
     "end_time": "2023-10-30T01:08:55.764734Z",
     "start_time": "2023-10-30T01:08:55.757192Z"
    }
   },
   "outputs": [],
   "source": [
    "class LoadData:\n",
    "    '''\n",
    "    This file for loading and caching the data and corresponding statistics\n",
    "    Please note that this file needs one image and 2 labels (segmentation label and diagnostic label).\n",
    "    '''\n",
    "    def __init__(self, data_dir, classes, diagClasses, cached_data_file):\n",
    "        self.data_dir = data_dir    #inputs/test/\n",
    "        self.classes = classes     #1\n",
    "        self.trainImList = list()\n",
    "        self.valImList = list()\n",
    "        self.trainAnnotList = list()\n",
    "        self.valAnnotList = list()\n",
    "        self.diagClassTrain = list()\n",
    "        self.diagClassVal = list()\n",
    "        self.diagClasses = diagClasses   #3\n",
    "        self.cached_data_file = cached_data_file  # modelname\n",
    "\n",
    "    def readFile(self, fileName, trainStg=False):\n",
    "\n",
    "\n",
    "        with open(self.data_dir + '/' + fileName, 'r') as textFile:\n",
    "            for line in textFile:\n",
    "                #line = textFile.read()\n",
    "                line_arr = line.split(',')\n",
    "                if len(line_arr) >= 3:\n",
    "\n",
    "                    img_file = ((self.data_dir).strip()  + line_arr[0].strip()).strip()\n",
    "                    label_file = ((self.data_dir).strip()  + line_arr[1].strip()).strip()\n",
    "                    class_str = line_arr[2].strip()\n",
    "                    # Pad the class string with leading zeros to make it have a length of 3\n",
    "                    class_str = class_str.zfill(3)\n",
    "                    # Convert class_str to a list of integers\n",
    "                    class_list = [int(digit) for digit in class_str]\n",
    "                    #label_img = cv2.imread(label_file, 0)\n",
    "                if trainStg == True:\n",
    "                    self.trainImList.append(img_file)\n",
    "                    self.trainAnnotList.append(label_file)\n",
    "                    self.diagClassTrain.append(class_list)\n",
    "                else:\n",
    "                    self.valImList.append(img_file)\n",
    "                    self.valAnnotList.append(label_file)\n",
    "                    self.diagClassVal.append(class_list)\n",
    "\n",
    "\n",
    "        return 0\n",
    "\n",
    "    def processData(self):\n",
    "        print('Processing training data')\n",
    "        return_val = self.readFile('train.txt', True)\n",
    "\n",
    "        print('Processing validation data')\n",
    "        return_val1 = self.readFile('val.txt')\n",
    "\n",
    "        print('Pickling data')\n",
    "        if return_val ==0 and return_val1 ==0:\n",
    "            data_dict = dict()\n",
    "            data_dict['trainIm'] = self.trainImList\n",
    "            data_dict['trainAnnot'] = self.trainAnnotList\n",
    "            data_dict['trainDiag'] = self.diagClassTrain\n",
    "            data_dict['valIm'] = self.valImList\n",
    "            data_dict['valAnnot'] = self.valAnnotList\n",
    "            data_dict['valDiag'] = self.diagClassVal\n",
    "\n",
    "            pickle.dump(data_dict, open(self.cached_data_file, \"wb\")) # 这里打开的是什么？  name?\n",
    "\n",
    "            return data_dict\n",
    "        return None"
   ]
  },
  {
   "cell_type": "code",
   "execution_count": 4,
   "id": "a5e69ff5",
   "metadata": {
    "ExecuteTime": {
     "end_time": "2023-10-30T01:08:55.775270Z",
     "start_time": "2023-10-30T01:08:55.767001Z"
    }
   },
   "outputs": [],
   "source": [
    "class PolypDataset(Dataset):\n",
    "    def __init__(self, image_path, gt, trainsize, augmentations):\n",
    "        self.trainsize = trainsize\n",
    "        self.augmentations = augmentations\n",
    "        #图像数据\n",
    "        self.images = image_path\n",
    "        \n",
    "        #label数据\n",
    "        self.gts = gt\n",
    "        #统计图像数量\n",
    "        self.size = len(self.images)\n",
    "        \n",
    "        if self.augmentations == True:\n",
    "            print('Using RandomRotation, RandomFlip')\n",
    "            self.img_transform = transforms.Compose([\n",
    "                transforms.RandomRotation(90, expand=False, center=None),#在[-90, 90]的范围内随机旋转图像。\n",
    "                transforms.RandomVerticalFlip(p=0.5),#以50%的概率随机垂直翻转图像\n",
    "                transforms.RandomHorizontalFlip(p=0.5),#以50%的概率随机水平翻转图像。\n",
    "                transforms.Resize((self.trainsize, self.trainsize)),#调整图像大小为指定大小，即训练时图像的尺寸。\n",
    "                #  352*352*3\n",
    "                transforms.ColorJitter(brightness=0.2, contrast=0.1, saturation=0, hue=0),#随机调整图像亮度、对比度和饱和度。\n",
    "                transforms.ToTensor(),\n",
    "                transforms.Normalize([0.485, 0.456, 0.406],\n",
    "                                     [0.229, 0.224, 0.225])])#对图像进行标准化，使其每个通道的均值为0.485、0.456、0.406，\n",
    "                                                             #标准差为0.229、0.224、0.225\n",
    "        else:\n",
    "            print('no augmentation')\n",
    "            self.img_transform = transforms.Compose([\n",
    "                transforms.Resize((self.trainsize, self.trainsize)),\n",
    "                transforms.ToTensor(),\n",
    "                transforms.Normalize([0.485, 0.456, 0.406],\n",
    "                                     [0.229, 0.224, 0.225])])\n",
    "            \n",
    "\n",
    "    def __getitem__(self, index):\n",
    "        img_id=self.images[index]\n",
    "        image = self.rgb_loader(img_id)\n",
    "        gt=self.gts[index]\n",
    "        seed = np.random.randint(2147483647) # make a seed with numpy generator \n",
    "        np.random.seed(seed) # apply this seed to img tranfsorms\n",
    "        torch.manual_seed(seed) # needed for torchvision 0.7\n",
    "        if self.img_transform is not None:\n",
    "            image = self.img_transform(image)\n",
    "        #image = image.transpose(2, 0, 1)\n",
    "        label_id = torch.Tensor(gt).cuda()\n",
    "        return image, label_id, {'img_id': img_id}\n",
    "          \n",
    "\n",
    "    def rgb_loader(self, path):   #用于加载图像文件并将其转换为 RGB 模式。\n",
    "        with open(path, 'rb') as f:\n",
    "            img = Image.open(f)\n",
    "            return img.convert('RGB')\n",
    "\n",
    "    def __len__(self):\n",
    "        return self.size"
   ]
  },
  {
   "cell_type": "code",
   "execution_count": 5,
   "id": "67a436fb",
   "metadata": {
    "ExecuteTime": {
     "end_time": "2023-10-30T01:08:55.790094Z",
     "start_time": "2023-10-30T01:08:55.776594Z"
    }
   },
   "outputs": [
    {
     "name": "stdout",
     "output_type": "stream",
     "text": [
      "Processing training data\n",
      "Processing validation data\n",
      "Pickling data\n"
     ]
    }
   ],
   "source": [
    "dataLoader = LoadData(config['path'], config['num_classes'], config['num_labelclasses'], config['name'])\n",
    "data = dataLoader.processData()\n",
    "\n",
    "train_img_ids = data['trainIm']\n",
    "train_label_ids = data['trainDiag']\n",
    "val_img_ids = data['valIm']\n",
    "val_label_ids = data['valDiag']"
   ]
  },
  {
   "cell_type": "code",
   "execution_count": 6,
   "id": "5f2b75a1",
   "metadata": {
    "ExecuteTime": {
     "end_time": "2023-10-30T01:08:55.795349Z",
     "start_time": "2023-10-30T01:08:55.791120Z"
    }
   },
   "outputs": [],
   "source": [
    "model_type = 'B4'\n",
    "init_trainsize = 128\n",
    "batch_size = 2\n",
    "from collections import OrderedDict\n",
    "from tqdm import tqdm\n",
    "import torch.nn as nn\n",
    "log = OrderedDict([\n",
    "    ('epoch', []),\n",
    "    ('lr', []),\n",
    "\n",
    "    ('loss', []),\n",
    "    ('acc', []),\n",
    "\n",
    "    ('val_loss', []),\n",
    "    ('val_acc', []),\n",
    "])\n",
    "best_acc = 0\n",
    "trigger = 0\n",
    "if config['loss'] == 'BCEWithLogitsLoss':\n",
    "    criterion = nn.BCEWithLogitsLoss().cuda()"
   ]
  },
  {
   "cell_type": "code",
   "execution_count": 7,
   "id": "4bed1567",
   "metadata": {
    "ExecuteTime": {
     "end_time": "2023-10-30T01:08:55.805160Z",
     "start_time": "2023-10-30T01:08:55.797677Z"
    }
   },
   "outputs": [
    {
     "name": "stdout",
     "output_type": "stream",
     "text": [
      "Using RandomRotation, RandomFlip\n",
      "no augmentation\n"
     ]
    }
   ],
   "source": [
    "trainDataset = PolypDataset(train_img_ids, train_label_ids, trainsize=init_trainsize, augmentations = True)\n",
    "train_loader = DataLoader(dataset=trainDataset,batch_size=batch_size,shuffle=True)\n",
    "valDateset=PolypDataset(val_img_ids, val_label_ids, trainsize=init_trainsize, augmentations = False)\n",
    "val_loader = DataLoader(dataset=valDateset,batch_size=batch_size,shuffle=False)"
   ]
  },
  {
   "cell_type": "code",
   "execution_count": 8,
   "id": "1b4837cf",
   "metadata": {
    "ExecuteTime": {
     "end_time": "2023-10-30T01:08:57.685038Z",
     "start_time": "2023-10-30T01:08:55.807185Z"
    }
   },
   "outputs": [
    {
     "name": "stderr",
     "output_type": "stream",
     "text": [
      "Clipping input data to the valid range for imshow with RGB data ([0..1] for floats or [0..255] for integers).\n",
      "Clipping input data to the valid range for imshow with RGB data ([0..1] for floats or [0..255] for integers).\n"
     ]
    },
    {
     "data": {
      "image/png": "[encoded data removed]",
      "text/plain": [
       "<Figure size 900x500 with 2 Axes>"
      ]
     },
     "metadata": {},
     "output_type": "display_data"
    }
   ],
   "source": [
    "import matplotlib.pyplot as plt\n",
    "# imshow function\n",
    "def imshow(img):\n",
    "    npimg = img.numpy()\n",
    "    plt.imshow(np.transpose(npimg, (1, 2, 0)))\n",
    "    \n",
    "# set rows and columns\n",
    "rows = 1\n",
    "columns = 16\n",
    "\n",
    "dataiter = iter(train_loader)\n",
    "# the \"_\" is a placeholder for no labels\n",
    "images, masks,ids= next(dataiter)\n",
    "\n",
    "# show images\n",
    "fig = plt.figure(figsize=(9,5))\n",
    "for i in range(1,3):\n",
    "    fig.add_subplot(rows,columns,i)\n",
    "    imshow(torchvision.utils.make_grid(images[i-1,:,:,:]))\n",
    "    \n"
   ]
  },
  {
   "cell_type": "code",
   "execution_count": 9,
   "id": "4e57a28d",
   "metadata": {
    "ExecuteTime": {
     "end_time": "2023-10-30T01:08:59.515127Z",
     "start_time": "2023-10-30T01:08:57.686038Z"
    }
   },
   "outputs": [
    {
     "name": "stderr",
     "output_type": "stream",
     "text": [
      "D:\\Anaconda3\\envs\\meproj\\lib\\site-packages\\tqdm\\auto.py:21: TqdmWarning: IProgress not found. Please update jupyter and ipywidgets. See https://ipywidgets.readthedocs.io/en/stable/user_install.html\n",
      "  from .autonotebook import tqdm as notebook_tqdm\n"
     ]
    }
   ],
   "source": [
    "from Encoder import mit\n",
    "from Decoder import mlp\n",
    "from mmcv.cnn import ConvModule\n",
    "import torch.nn as nn\n",
    "class ESFPNetStructure(nn.Module):\n",
    "\n",
    "    def __init__(self, embedding_dim = 160):\n",
    "        super(ESFPNetStructure, self).__init__()\n",
    "        \n",
    "        # Backbone\n",
    "        if model_type == 'B0':\n",
    "            self.backbone = mit.mit_b0()\n",
    "        if model_type == 'B1':\n",
    "            self.backbone = mit.mit_b1()\n",
    "        if model_type == 'B2':\n",
    "            self.backbone = mit.mit_b2()\n",
    "        if model_type == 'B3':\n",
    "            self.backbone = mit.mit_b3()\n",
    "        if model_type == 'B4':\n",
    "            self.backbone = mit.mit_b4()\n",
    "        if model_type == 'B5':\n",
    "            self.backbone = mit.mit_b5()\n",
    "        \n",
    "        self._init_weights()  # load pretrain\n",
    "        \n",
    "        # LP Header\n",
    "        self.LP_1 = mlp.LP(input_dim = self.backbone.embed_dims[0], embed_dim = self.backbone.embed_dims[0])\n",
    "        self.LP_2 = mlp.LP(input_dim = self.backbone.embed_dims[1], embed_dim = self.backbone.embed_dims[1])\n",
    "        self.LP_3 = mlp.LP(input_dim = self.backbone.embed_dims[2], embed_dim = self.backbone.embed_dims[2])\n",
    "        self.LP_4 = mlp.LP(input_dim = self.backbone.embed_dims[3], embed_dim = self.backbone.embed_dims[3])\n",
    "        \n",
    "        # Linear Fuse\n",
    "        self.linear_fuse34 = ConvModule(in_channels=(self.backbone.embed_dims[2] + self.backbone.embed_dims[3]), out_channels=self.backbone.embed_dims[2], kernel_size=1,norm_cfg=dict(type='BN', requires_grad=True))\n",
    "        self.linear_fuse23 = ConvModule(in_channels=(self.backbone.embed_dims[1] + self.backbone.embed_dims[2]), out_channels=self.backbone.embed_dims[1], kernel_size=1,norm_cfg=dict(type='BN', requires_grad=True))\n",
    "        self.linear_fuse12 = ConvModule(in_channels=(self.backbone.embed_dims[0] + self.backbone.embed_dims[1]), out_channels=self.backbone.embed_dims[0], kernel_size=1,norm_cfg=dict(type='BN', requires_grad=True))\n",
    "        \n",
    "        # Fused LP Header\n",
    "        self.LP_12 = mlp.LP(input_dim = self.backbone.embed_dims[0], embed_dim = self.backbone.embed_dims[0])\n",
    "        self.LP_23 = mlp.LP(input_dim = self.backbone.embed_dims[1], embed_dim = self.backbone.embed_dims[1])\n",
    "        self.LP_34 = mlp.LP(input_dim = self.backbone.embed_dims[2], embed_dim = self.backbone.embed_dims[2])\n",
    "        \n",
    "        # Final Linear Prediction\n",
    "        self.linear_pred = nn.Conv2d((self.backbone.embed_dims[0] + self.backbone.embed_dims[1] + self.backbone.embed_dims[2] + self.backbone.embed_dims[3]), 1, kernel_size=1)\n",
    "        \n",
    "    def _init_weights(self):\n",
    "        \n",
    "        if model_type == 'B0':\n",
    "            pretrained_dict = torch.load('./Pretrained/mit_b0.pth')\n",
    "        if model_type == 'B1':\n",
    "            pretrained_dict = torch.load('./Pretrained/mit_b1.pth')\n",
    "        if model_type == 'B2':\n",
    "            pretrained_dict = torch.load('./Pretrained/mit_b2.pth')\n",
    "        if model_type == 'B3':\n",
    "            pretrained_dict = torch.load('./Pretrained/mit_b3.pth')\n",
    "        if model_type == 'B4':\n",
    "            pretrained_dict = torch.load('./Pretrained/mit_b4.pth')\n",
    "        if model_type == 'B5':\n",
    "            pretrained_dict = torch.load('./Pretrained/mit_b5.pth')\n",
    "            \n",
    "            \n",
    "        model_dict = self.backbone.state_dict()\n",
    "        pretrained_dict = {k: v for k, v in pretrained_dict.items() if k in model_dict}\n",
    "        model_dict.update(pretrained_dict)\n",
    "        self.backbone.load_state_dict(model_dict)\n",
    "        print(\"successfully loaded!!!!\")\n",
    "        \n",
    "        \n",
    "    def forward(self, x):\n",
    "#         这段代码是一个模型的前向传递过程。该模型首先通过backbone网络，\n",
    "#         对输入的x进行特征提取，得到4个不同分辨率的特征图。\n",
    "#         然后将这些特征图送入LP Header网络进行处理，融合不同层次的特征。\n",
    "#         接着通过上采样（interpolation）将处理后的特征图进行恢复到原始输入图像尺寸大小，\n",
    "#         并最终送入线性预测器（linear_pred）获得输出结果。\n",
    "        ##################  Go through backbone ###################\n",
    "        \n",
    "        B = x.shape[0]\n",
    "        \n",
    "        #stage 1\n",
    "        out_1, H, W = self.backbone.patch_embed1(x)\n",
    "        for i, blk in enumerate(self.backbone.block1):\n",
    "            out_1 = blk(out_1, H, W)\n",
    "        out_1 = self.backbone.norm1(out_1)\n",
    "        #将输入特征图out_1从形状(Batch_Size, N, W, H)变形为(Batch_Size, H, W, N)\n",
    "        #其中-1表示自动计算N的值。接着使用permute函数将特征维度N和高宽维度H、W交换位置\n",
    "        #变成(Batch_Size, N, H, W)的形状\n",
    "        out_1 = out_1.reshape(B, H, W, -1).permute(0, 3, 1, 2).contiguous()  #(Batch_Size, self.backbone.embed_dims[0], 88, 88)\n",
    "        \n",
    "        # stage 2\n",
    "        out_2, H, W = self.backbone.patch_embed2(out_1)\n",
    "        for i, blk in enumerate(self.backbone.block2):\n",
    "            out_2 = blk(out_2, H, W)\n",
    "        out_2 = self.backbone.norm2(out_2)\n",
    "        out_2 = out_2.reshape(B, H, W, -1).permute(0, 3, 1, 2).contiguous()  #(Batch_Size, self.backbone.embed_dims[1], 44, 44)\n",
    "        \n",
    "        # stage 3\n",
    "        out_3, H, W = self.backbone.patch_embed3(out_2)\n",
    "        for i, blk in enumerate(self.backbone.block3):\n",
    "            out_3 = blk(out_3, H, W)\n",
    "        out_3 = self.backbone.norm3(out_3)\n",
    "        out_3 = out_3.reshape(B, H, W, -1).permute(0, 3, 1, 2).contiguous()  #(Batch_Size, self.backbone.embed_dims[2], 22, 22)\n",
    "        \n",
    "        # stage 4\n",
    "        out_4, H, W = self.backbone.patch_embed4(out_3)\n",
    "        for i, blk in enumerate(self.backbone.block4):\n",
    "            out_4 = blk(out_4, H, W)\n",
    "        out_4 = self.backbone.norm4(out_4)\n",
    "        out_4 = out_4.reshape(B, H, W, -1).permute(0, 3, 1, 2).contiguous()  #(Batch_Size, self.backbone.embed_dims[3], 11, 11)\n",
    "        \n",
    "        # go through LP Header\n",
    "        lp_1 = self.LP_1(out_1)\n",
    "        lp_2 = self.LP_2(out_2)  \n",
    "        lp_3 = self.LP_3(out_3)  \n",
    "        lp_4 = self.LP_4(out_4)\n",
    "        \n",
    "        # linear fuse and go pass LP Header     上采样并拼接\n",
    "        lp_34 = self.LP_34(self.linear_fuse34(torch.cat([lp_3, F.interpolate(lp_4,scale_factor=2,mode='bilinear', align_corners=False)], dim=1)))\n",
    "        lp_23 = self.LP_23(self.linear_fuse23(torch.cat([lp_2, F.interpolate(lp_34,scale_factor=2,mode='bilinear', align_corners=False)], dim=1)))\n",
    "        lp_12 = self.LP_12(self.linear_fuse12(torch.cat([lp_1, F.interpolate(lp_23,scale_factor=2,mode='bilinear', align_corners=False)], dim=1)))\n",
    "        \n",
    "        # get the final output\n",
    "        lp4_resized = F.interpolate(lp_4,scale_factor=8,mode='bilinear', align_corners=False)\n",
    "        lp3_resized = F.interpolate(lp_34,scale_factor=4,mode='bilinear', align_corners=False)\n",
    "        lp2_resized = F.interpolate(lp_23,scale_factor=2,mode='bilinear', align_corners=False)\n",
    "        lp1_resized = lp_12\n",
    "        \n",
    "        out = self.linear_pred(torch.cat([lp1_resized, lp2_resized, lp3_resized, lp4_resized], dim=1))\n",
    "        out_resized = F.interpolate(out,scale_factor=4,mode='bilinear', align_corners=True)\n",
    "        \n",
    "        return out_resized"
   ]
  },
  {
   "cell_type": "code",
   "execution_count": 10,
   "id": "efb2002c",
   "metadata": {
    "ExecuteTime": {
     "end_time": "2023-10-30T01:08:59.525702Z",
     "start_time": "2023-10-30T01:08:59.517489Z"
    }
   },
   "outputs": [],
   "source": [
    "class Classification(nn.Module):\n",
    "    def __init__(self,pretrain_path): #num_classes :3  deep_supervision :True\n",
    "        super(Classification, self).__init__()\n",
    "        ESFPNetBest = torch.load(pretrain_path)\n",
    "        self.segmentation_model = ESFPNetBest\n",
    "        print(\"Pretrained weights updated successfully.\")\n",
    "        # Add a classification head\n",
    "        cov = 1\n",
    "        self.c=cov\n",
    "        if self.c == 0:\n",
    "            self.classification_head = nn.Sequential(\n",
    "                nn.Flatten(),  # Flatten the output\n",
    "                nn.Linear(64**2*4, 4096),  # Adjust the size as needed\n",
    "                nn.ReLU(),\n",
    "                nn.Dropout(0.3),\n",
    "                nn.Linear(4096, 256),  # Adjust the size as needed\n",
    "                nn.ReLU(),\n",
    "                nn.Dropout(0.3),\n",
    "                nn.Linear(256, 3),  # Output layer with 3 classes\n",
    "                nn.LogSoftmax(dim=1)\n",
    "            )\n",
    "        else:\n",
    "            self.conv_layers = nn.Sequential(\n",
    "                nn.Conv2d(4, 128, kernel_size=3, padding=1),\n",
    "                nn.ReLU(),\n",
    "                nn.Conv2d(128, 256, kernel_size=3, padding=1),\n",
    "                nn.ReLU(),\n",
    "                nn.MaxPool2d(kernel_size=2, stride=2),\n",
    "                nn.Conv2d(256, 512, kernel_size=3, padding=1),\n",
    "                nn.ReLU(),\n",
    "                nn.Conv2d(512, 512, kernel_size=3, padding=1),\n",
    "                nn.ReLU(),\n",
    "                nn.MaxPool2d(kernel_size=2, stride=2)\n",
    "            )\n",
    "\n",
    "            self.fc_layers = nn.Sequential(\n",
    "                nn.Flatten(),\n",
    "                nn.Linear(16**2*512, 512),  # 调整大小以适应您的需求\n",
    "                nn.ReLU(),\n",
    "                nn.Dropout(0.3),\n",
    "                nn.Linear(512, 256),  # 调整大小以适应您的需求\n",
    "                nn.ReLU(),\n",
    "                nn.Dropout(0.3),\n",
    "                nn.Linear(256, 3),\n",
    "                nn.LogSoftmax(dim=1)\n",
    "            )\n",
    "\n",
    "    def forward(self, input1):\n",
    "        #分割模型输出\n",
    "        segmentation_output = self.segmentation_model(input1)\n",
    "        concatenated = torch.cat((input1, segmentation_output), dim=1)\n",
    "        concatenated = F.max_pool2d(concatenated, kernel_size=2, stride=2)\n",
    "\n",
    "        #分类输出\n",
    "        if self.c == 0:\n",
    "            classification_output = self.classification_head(concatenated)\n",
    "        else:\n",
    "            x = self.conv_layers(concatenated)\n",
    "\n",
    "            classification_output = self.fc_layers(x)\n",
    "\n",
    "        return classification_output"
   ]
  },
  {
   "cell_type": "code",
   "execution_count": 11,
   "id": "168eedb4",
   "metadata": {
    "ExecuteTime": {
     "end_time": "2023-10-30T01:09:00.038994Z",
     "start_time": "2023-10-30T01:08:59.527060Z"
    }
   },
   "outputs": [
    {
     "name": "stdout",
     "output_type": "stream",
     "text": [
      "Pretrained weights updated successfully.\n",
      "Models moved to GPU.\n",
      "Model to GPU successfully.\n",
      "model successfully loaded.\n"
     ]
    }
   ],
   "source": [
    "from torch.optim import lr_scheduler\n",
    "import torch.optim as optim\n",
    "config['seg_model']=\"D:\\PythonProject\\ESFPNet\\ESFPNet-main\\SaveModel\\ESFP_B4_Endo_AverageOptimize_1\\ESFPNet.pt\"\n",
    "pretrained_weights_path = config['seg_model']\n",
    "model=Classification(pretrained_weights_path)\n",
    "if torch.cuda.is_available():\n",
    "    device = torch.device(\"cuda:0\")\n",
    "    model.to(device)\n",
    "    print('Models moved to GPU.')\n",
    "\n",
    "print(\"Model to GPU successfully.\")\n",
    "if isinstance(model, torch.nn.Module):  #检测模型是否是Module 的实例\n",
    "    print(\"model successfully loaded.\")\n",
    "else:\n",
    "    print(\"Error: Failed to load the model.\")\n",
    "params = filter(lambda p: p.requires_grad, model.parameters())\n",
    "if config['optimizer'] == 'Adam':\n",
    "    optimizer = optim.Adam(\n",
    "        params, lr=config['lr'], weight_decay=config['weight_decay'])\n",
    "elif config['optimizer'] == 'SGD':\n",
    "    optimizer = optim.SGD(params, lr=config['lr'], momentum=config['momentum'],\n",
    "                          nesterov=config['nesterov'], weight_decay=config['weight_decay'])\n",
    "else:\n",
    "    raise NotImplementedError\n",
    "\n",
    "if config['scheduler'] == 'CosineAnnealingLR':\n",
    "    scheduler = lr_scheduler.CosineAnnealingLR(\n",
    "        optimizer, T_max=config['epochs'], eta_min=config['min_lr'])\n",
    "elif config['scheduler'] == 'ReduceLROnPlateau':\n",
    "    scheduler = lr_scheduler.ReduceLROnPlateau(optimizer, factor=config['factor'], patience=config['patience'],\n",
    "                                               verbose=1, min_lr=config['min_lr'])\n",
    "elif config['scheduler'] == 'MultiStepLR':\n",
    "    scheduler = lr_scheduler.MultiStepLR(optimizer, milestones=[int(e) for e in config['milestones'].split(',')],\n",
    "                                         gamma=config['gamma'])\n",
    "elif config['scheduler'] == 'ConstantLR':\n",
    "    scheduler = None\n",
    "else:\n",
    "    raise NotImplementedError"
   ]
  },
  {
   "cell_type": "code",
   "execution_count": 12,
   "id": "2c470108",
   "metadata": {
    "ExecuteTime": {
     "end_time": "2023-10-30T01:09:00.051169Z",
     "start_time": "2023-10-30T01:09:00.040999Z"
    }
   },
   "outputs": [],
   "source": [
    "from metrics import acc_score\n",
    "from utils import AverageMeter, str2bool\n",
    "import losses\n",
    "def train(config, train_loader, model, criterion, optimizer):\n",
    "    avg_meters = {'loss': AverageMeter(),\n",
    "                  'acc': AverageMeter()}\n",
    "    class_loss = []\n",
    "    model.train()\n",
    "\n",
    "    pbar = tqdm(total=len(train_loader))\n",
    "    for input1, target, _ in train_loader:\n",
    "        input1 = input1.cuda()\n",
    "\n",
    "        target = target.cuda()\n",
    "\n",
    "        # compute output\n",
    "\n",
    "        output = model(input1)\n",
    "        \n",
    "        loss = criterion(output, target)\n",
    "        acc = acc_score(output, target , target.size(0))\n",
    "\n",
    "\n",
    "\n",
    "        # compute gradient and do optimizing step\n",
    "        optimizer.zero_grad()\n",
    "        loss.backward()\n",
    "        optimizer.step()\n",
    "\n",
    "        avg_meters['loss'].update(loss.item(), input1.size(0))\n",
    "        avg_meters['acc'].update(acc, input1.size(0))\n",
    "\n",
    "\n",
    "        postfix = OrderedDict([\n",
    "            ('loss', avg_meters['loss'].avg),\n",
    "            ('acc', avg_meters['acc'].avg),\n",
    "        ])\n",
    "        pbar.set_postfix(postfix)\n",
    "        pbar.update(1)\n",
    "    print(\"train end ..\")\n",
    "    pbar.close()\n",
    "\n",
    "    return OrderedDict([('loss', avg_meters['loss'].avg),\n",
    "                        ('acc', avg_meters['acc'].avg)])"
   ]
  },
  {
   "cell_type": "code",
   "execution_count": 15,
   "id": "b6328499",
   "metadata": {
    "ExecuteTime": {
     "end_time": "2023-10-30T01:12:48.065013Z",
     "start_time": "2023-10-30T01:12:48.057681Z"
    }
   },
   "outputs": [],
   "source": [
    "def validate(config, val_loader, model, criterion):\n",
    "    avg_meters = {'loss': AverageMeter(),\n",
    "                  'acc': AverageMeter()}\n",
    "\n",
    "    # switch to evaluate mode\n",
    "    model.eval()\n",
    "\n",
    "    with torch.no_grad():\n",
    "        pbar = tqdm(total=len(val_loader))\n",
    "        for input1, target, _ in val_loader:\n",
    "            input1 = input1.cuda()\n",
    "\n",
    "            target = target.cuda()\n",
    "\n",
    "            # compute output\n",
    "\n",
    "            output = model(input1)\n",
    "            loss = criterion(output, target)\n",
    "            acc = acc_score(output, target,input1.size(0))\n",
    "            output_probabilities = torch.exp(output)\n",
    "            #print('this batch acc = %s', acc)\n",
    "            #print(output_probabilities, target)\n",
    "\n",
    "            avg_meters['loss'].update(loss.item(), input1.size(0))\n",
    "            avg_meters['acc'].update(acc, input1.size(0))\n",
    "\n",
    "            postfix = OrderedDict([\n",
    "                ('loss', avg_meters['loss'].avg),\n",
    "                ('acc', avg_meters['acc'].avg),\n",
    "            ])\n",
    "            pbar.set_postfix(postfix)\n",
    "            pbar.update(1)\n",
    "        pbar.close()\n",
    "\n",
    "    return OrderedDict([('loss', avg_meters['loss'].avg),\n",
    "                        ('acc', avg_meters['acc'].avg)])\n"
   ]
  },
  {
   "cell_type": "code",
   "execution_count": 16,
   "id": "cd504387",
   "metadata": {
    "ExecuteTime": {
     "end_time": "2023-10-30T02:02:11.511975Z",
     "start_time": "2023-10-30T01:12:49.618330Z"
    },
    "scrolled": false
   },
   "outputs": [
    {
     "name": "stdout",
     "output_type": "stream",
     "text": [
      "Epoch [0/100]\n"
     ]
    },
    {
     "name": "stderr",
     "output_type": "stream",
     "text": [
      "100%|█████████████████████████████████████████████████████████| 364/364 [01:04<00:00,  5.68it/s, loss=0.602, acc=0.396]\n"
     ]
    },
    {
     "name": "stdout",
     "output_type": "stream",
     "text": [
      "train end ..\n"
     ]
    },
    {
     "name": "stderr",
     "output_type": "stream",
     "text": [
      "100%|███████████████████████████████████████████████████████████| 92/92 [00:04<00:00, 18.61it/s, loss=0.572, acc=0.536]\n"
     ]
    },
    {
     "name": "stdout",
     "output_type": "stream",
     "text": [
      "loss 0.6017 -  acc 0.3961 - val_loss 0.5716 - val_acc 0.5355 \n",
      "=> saved best model\n",
      "Epoch [1/100]\n"
     ]
    },
    {
     "name": "stderr",
     "output_type": "stream",
     "text": [
      "100%|█████████████████████████████████████████████████████████| 364/364 [01:05<00:00,  5.58it/s, loss=0.564, acc=0.527]\n"
     ]
    },
    {
     "name": "stdout",
     "output_type": "stream",
     "text": [
      "train end ..\n"
     ]
    },
    {
     "name": "stderr",
     "output_type": "stream",
     "text": [
      "100%|███████████████████████████████████████████████████████████| 92/92 [00:04<00:00, 18.81it/s, loss=0.543, acc=0.639]\n"
     ]
    },
    {
     "name": "stdout",
     "output_type": "stream",
     "text": [
      "loss 0.5643 -  acc 0.5268 - val_loss 0.5428 - val_acc 0.6393 \n",
      "=> saved best model\n",
      "Epoch [2/100]\n"
     ]
    },
    {
     "name": "stderr",
     "output_type": "stream",
     "text": [
      "100%|█████████████████████████████████████████████████████████| 364/364 [01:04<00:00,  5.60it/s, loss=0.566, acc=0.543]\n"
     ]
    },
    {
     "name": "stdout",
     "output_type": "stream",
     "text": [
      "train end ..\n"
     ]
    },
    {
     "name": "stderr",
     "output_type": "stream",
     "text": [
      "100%|███████████████████████████████████████████████████████████| 92/92 [00:04<00:00, 18.82it/s, loss=0.549, acc=0.617]\n"
     ]
    },
    {
     "name": "stdout",
     "output_type": "stream",
     "text": [
      "loss 0.5662 -  acc 0.5433 - val_loss 0.5493 - val_acc 0.6175 \n",
      "Epoch [3/100]\n"
     ]
    },
    {
     "name": "stderr",
     "output_type": "stream",
     "text": [
      "100%|█████████████████████████████████████████████████████████| 364/364 [01:05<00:00,  5.59it/s, loss=0.532, acc=0.623]\n"
     ]
    },
    {
     "name": "stdout",
     "output_type": "stream",
     "text": [
      "train end ..\n"
     ]
    },
    {
     "name": "stderr",
     "output_type": "stream",
     "text": [
      "100%|███████████████████████████████████████████████████████████| 92/92 [00:04<00:00, 18.76it/s, loss=0.552, acc=0.617]\n"
     ]
    },
    {
     "name": "stdout",
     "output_type": "stream",
     "text": [
      "loss 0.5320 -  acc 0.6231 - val_loss 0.5518 - val_acc 0.6175 \n",
      "Epoch [4/100]\n"
     ]
    },
    {
     "name": "stderr",
     "output_type": "stream",
     "text": [
      "100%|██████████████████████████████████████████████████████████| 364/364 [01:04<00:00,  5.63it/s, loss=0.51, acc=0.645]\n"
     ]
    },
    {
     "name": "stdout",
     "output_type": "stream",
     "text": [
      "train end ..\n"
     ]
    },
    {
     "name": "stderr",
     "output_type": "stream",
     "text": [
      "100%|███████████████████████████████████████████████████████████| 92/92 [00:04<00:00, 18.79it/s, loss=0.471, acc=0.765]\n"
     ]
    },
    {
     "name": "stdout",
     "output_type": "stream",
     "text": [
      "loss 0.5104 -  acc 0.6451 - val_loss 0.4710 - val_acc 0.7650 \n",
      "=> saved best model\n",
      "Epoch [5/100]\n"
     ]
    },
    {
     "name": "stderr",
     "output_type": "stream",
     "text": [
      "100%|█████████████████████████████████████████████████████████| 364/364 [01:04<00:00,  5.64it/s, loss=0.506, acc=0.678]\n"
     ]
    },
    {
     "name": "stdout",
     "output_type": "stream",
     "text": [
      "train end ..\n"
     ]
    },
    {
     "name": "stderr",
     "output_type": "stream",
     "text": [
      "100%|███████████████████████████████████████████████████████████| 92/92 [00:04<00:00, 18.63it/s, loss=0.456, acc=0.743]\n"
     ]
    },
    {
     "name": "stdout",
     "output_type": "stream",
     "text": [
      "loss 0.5060 -  acc 0.6781 - val_loss 0.4564 - val_acc 0.7432 \n",
      "Epoch [6/100]\n"
     ]
    },
    {
     "name": "stderr",
     "output_type": "stream",
     "text": [
      "100%|█████████████████████████████████████████████████████████| 364/364 [01:04<00:00,  5.64it/s, loss=0.489, acc=0.692]\n"
     ]
    },
    {
     "name": "stdout",
     "output_type": "stream",
     "text": [
      "train end ..\n"
     ]
    },
    {
     "name": "stderr",
     "output_type": "stream",
     "text": [
      "100%|███████████████████████████████████████████████████████████| 92/92 [00:04<00:00, 18.95it/s, loss=0.456, acc=0.743]\n"
     ]
    },
    {
     "name": "stdout",
     "output_type": "stream",
     "text": [
      "loss 0.4895 -  acc 0.6919 - val_loss 0.4562 - val_acc 0.7432 \n",
      "Epoch [7/100]\n"
     ]
    },
    {
     "name": "stderr",
     "output_type": "stream",
     "text": [
      "100%|█████████████████████████████████████████████████████████| 364/364 [01:04<00:00,  5.65it/s, loss=0.471, acc=0.729]\n"
     ]
    },
    {
     "name": "stdout",
     "output_type": "stream",
     "text": [
      "train end ..\n"
     ]
    },
    {
     "name": "stderr",
     "output_type": "stream",
     "text": [
      "100%|███████████████████████████████████████████████████████████| 92/92 [00:04<00:00, 19.13it/s, loss=0.434, acc=0.749]\n"
     ]
    },
    {
     "name": "stdout",
     "output_type": "stream",
     "text": [
      "loss 0.4715 -  acc 0.7290 - val_loss 0.4342 - val_acc 0.7486 \n",
      "Epoch [8/100]\n"
     ]
    },
    {
     "name": "stderr",
     "output_type": "stream",
     "text": [
      "100%|█████████████████████████████████████████████████████████| 364/364 [01:04<00:00,  5.64it/s, loss=0.455, acc=0.741]\n"
     ]
    },
    {
     "name": "stdout",
     "output_type": "stream",
     "text": [
      "train end ..\n"
     ]
    },
    {
     "name": "stderr",
     "output_type": "stream",
     "text": [
      "100%|███████████████████████████████████████████████████████████| 92/92 [00:05<00:00, 18.35it/s, loss=0.429, acc=0.798]\n"
     ]
    },
    {
     "name": "stdout",
     "output_type": "stream",
     "text": [
      "loss 0.4554 -  acc 0.7414 - val_loss 0.4292 - val_acc 0.7978 \n",
      "=> saved best model\n",
      "Epoch [9/100]\n"
     ]
    },
    {
     "name": "stderr",
     "output_type": "stream",
     "text": [
      "100%|█████████████████████████████████████████████████████████| 364/364 [01:04<00:00,  5.64it/s, loss=0.431, acc=0.769]\n"
     ]
    },
    {
     "name": "stdout",
     "output_type": "stream",
     "text": [
      "train end ..\n"
     ]
    },
    {
     "name": "stderr",
     "output_type": "stream",
     "text": [
      "100%|████████████████████████████████████████████████████████████| 92/92 [00:04<00:00, 18.87it/s, loss=0.436, acc=0.77]\n"
     ]
    },
    {
     "name": "stdout",
     "output_type": "stream",
     "text": [
      "loss 0.4308 -  acc 0.7689 - val_loss 0.4360 - val_acc 0.7705 \n",
      "Epoch [10/100]\n"
     ]
    },
    {
     "name": "stderr",
     "output_type": "stream",
     "text": [
      "100%|█████████████████████████████████████████████████████████| 364/364 [01:05<00:00,  5.59it/s, loss=0.437, acc=0.794]\n"
     ]
    },
    {
     "name": "stdout",
     "output_type": "stream",
     "text": [
      "train end ..\n"
     ]
    },
    {
     "name": "stderr",
     "output_type": "stream",
     "text": [
      "100%|███████████████████████████████████████████████████████████| 92/92 [00:04<00:00, 18.59it/s, loss=0.397, acc=0.836]\n"
     ]
    },
    {
     "name": "stdout",
     "output_type": "stream",
     "text": [
      "loss 0.4365 -  acc 0.7937 - val_loss 0.3970 - val_acc 0.8361 \n",
      "=> saved best model\n",
      "Epoch [11/100]\n"
     ]
    },
    {
     "name": "stderr",
     "output_type": "stream",
     "text": [
      "100%|█████████████████████████████████████████████████████████| 364/364 [01:05<00:00,  5.53it/s, loss=0.388, acc=0.842]\n"
     ]
    },
    {
     "name": "stdout",
     "output_type": "stream",
     "text": [
      "train end ..\n"
     ]
    },
    {
     "name": "stderr",
     "output_type": "stream",
     "text": [
      "100%|███████████████████████████████████████████████████████████| 92/92 [00:04<00:00, 18.49it/s, loss=0.419, acc=0.831]\n"
     ]
    },
    {
     "name": "stdout",
     "output_type": "stream",
     "text": [
      "loss 0.3875 -  acc 0.8418 - val_loss 0.4192 - val_acc 0.8306 \n",
      "Epoch [12/100]\n"
     ]
    },
    {
     "name": "stderr",
     "output_type": "stream",
     "text": [
      "100%|██████████████████████████████████████████████████████████| 364/364 [01:05<00:00,  5.59it/s, loss=0.381, acc=0.86]\n"
     ]
    },
    {
     "name": "stdout",
     "output_type": "stream",
     "text": [
      "train end ..\n"
     ]
    },
    {
     "name": "stderr",
     "output_type": "stream",
     "text": [
      "100%|███████████████████████████████████████████████████████████| 92/92 [00:05<00:00, 18.25it/s, loss=0.412, acc=0.858]\n"
     ]
    },
    {
     "name": "stdout",
     "output_type": "stream",
     "text": [
      "loss 0.3809 -  acc 0.8597 - val_loss 0.4120 - val_acc 0.8579 \n",
      "=> saved best model\n",
      "Epoch [13/100]\n"
     ]
    },
    {
     "name": "stderr",
     "output_type": "stream",
     "text": [
      "100%|█████████████████████████████████████████████████████████| 364/364 [01:05<00:00,  5.56it/s, loss=0.371, acc=0.864]\n"
     ]
    },
    {
     "name": "stdout",
     "output_type": "stream",
     "text": [
      "train end ..\n"
     ]
    },
    {
     "name": "stderr",
     "output_type": "stream",
     "text": [
      "100%|███████████████████████████████████████████████████████████| 92/92 [00:04<00:00, 18.48it/s, loss=0.431, acc=0.803]\n"
     ]
    },
    {
     "name": "stdout",
     "output_type": "stream",
     "text": [
      "loss 0.3708 -  acc 0.8638 - val_loss 0.4307 - val_acc 0.8033 \n",
      "Epoch [14/100]\n"
     ]
    },
    {
     "name": "stderr",
     "output_type": "stream",
     "text": [
      "100%|█████████████████████████████████████████████████████████| 364/364 [01:04<00:00,  5.64it/s, loss=0.361, acc=0.882]\n"
     ]
    },
    {
     "name": "stdout",
     "output_type": "stream",
     "text": [
      "train end ..\n"
     ]
    },
    {
     "name": "stderr",
     "output_type": "stream",
     "text": [
      "100%|████████████████████████████████████████████████████████████| 92/92 [00:04<00:00, 18.49it/s, loss=0.34, acc=0.923]\n"
     ]
    },
    {
     "name": "stdout",
     "output_type": "stream",
     "text": [
      "loss 0.3606 -  acc 0.8817 - val_loss 0.3399 - val_acc 0.9235 \n",
      "=> saved best model\n",
      "Epoch [15/100]\n"
     ]
    },
    {
     "name": "stderr",
     "output_type": "stream",
     "text": [
      "100%|██████████████████████████████████████████████████████████| 364/364 [01:04<00:00,  5.60it/s, loss=0.347, acc=0.89]\n"
     ]
    },
    {
     "name": "stdout",
     "output_type": "stream",
     "text": [
      "train end ..\n"
     ]
    },
    {
     "name": "stderr",
     "output_type": "stream",
     "text": [
      "100%|███████████████████████████████████████████████████████████| 92/92 [00:04<00:00, 18.56it/s, loss=0.353, acc=0.907]\n"
     ]
    },
    {
     "name": "stdout",
     "output_type": "stream",
     "text": [
      "loss 0.3465 -  acc 0.8900 - val_loss 0.3528 - val_acc 0.9071 \n",
      "Epoch [16/100]\n"
     ]
    },
    {
     "name": "stderr",
     "output_type": "stream",
     "text": [
      "100%|█████████████████████████████████████████████████████████| 364/364 [01:03<00:00,  5.69it/s, loss=0.332, acc=0.911]\n"
     ]
    },
    {
     "name": "stdout",
     "output_type": "stream",
     "text": [
      "train end ..\n"
     ]
    },
    {
     "name": "stderr",
     "output_type": "stream",
     "text": [
      "100%|███████████████████████████████████████████████████████████| 92/92 [00:04<00:00, 18.43it/s, loss=0.444, acc=0.836]\n"
     ]
    },
    {
     "name": "stdout",
     "output_type": "stream",
     "text": [
      "loss 0.3315 -  acc 0.9106 - val_loss 0.4439 - val_acc 0.8361 \n",
      "Epoch [17/100]\n"
     ]
    },
    {
     "name": "stderr",
     "output_type": "stream",
     "text": [
      "100%|█████████████████████████████████████████████████████████| 364/364 [01:05<00:00,  5.52it/s, loss=0.344, acc=0.898]\n"
     ]
    },
    {
     "name": "stdout",
     "output_type": "stream",
     "text": [
      "train end ..\n"
     ]
    },
    {
     "name": "stderr",
     "output_type": "stream",
     "text": [
      "100%|███████████████████████████████████████████████████████████| 92/92 [00:04<00:00, 18.71it/s, loss=0.341, acc=0.902]\n"
     ]
    },
    {
     "name": "stdout",
     "output_type": "stream",
     "text": [
      "loss 0.3435 -  acc 0.8982 - val_loss 0.3407 - val_acc 0.9016 \n",
      "Epoch [18/100]\n"
     ]
    },
    {
     "name": "stderr",
     "output_type": "stream",
     "text": [
      "100%|█████████████████████████████████████████████████████████| 364/364 [01:05<00:00,  5.55it/s, loss=0.317, acc=0.928]\n"
     ]
    },
    {
     "name": "stdout",
     "output_type": "stream",
     "text": [
      "train end ..\n"
     ]
    },
    {
     "name": "stderr",
     "output_type": "stream",
     "text": [
      "100%|███████████████████████████████████████████████████████████| 92/92 [00:04<00:00, 18.69it/s, loss=0.375, acc=0.902]\n"
     ]
    },
    {
     "name": "stdout",
     "output_type": "stream",
     "text": [
      "loss 0.3165 -  acc 0.9285 - val_loss 0.3751 - val_acc 0.9016 \n",
      "Epoch [19/100]\n"
     ]
    },
    {
     "name": "stderr",
     "output_type": "stream",
     "text": [
      "100%|██████████████████████████████████████████████████████████| 364/364 [01:05<00:00,  5.57it/s, loss=0.32, acc=0.913]\n"
     ]
    },
    {
     "name": "stdout",
     "output_type": "stream",
     "text": [
      "train end ..\n"
     ]
    },
    {
     "name": "stderr",
     "output_type": "stream",
     "text": [
      "100%|███████████████████████████████████████████████████████████| 92/92 [00:04<00:00, 18.66it/s, loss=0.338, acc=0.934]\n"
     ]
    },
    {
     "name": "stdout",
     "output_type": "stream",
     "text": [
      "loss 0.3200 -  acc 0.9133 - val_loss 0.3383 - val_acc 0.9344 \n",
      "=> saved best model\n",
      "Epoch [20/100]\n"
     ]
    },
    {
     "name": "stderr",
     "output_type": "stream",
     "text": [
      "100%|█████████████████████████████████████████████████████████| 364/364 [01:04<00:00,  5.64it/s, loss=0.306, acc=0.934]\n"
     ]
    },
    {
     "name": "stdout",
     "output_type": "stream",
     "text": [
      "train end ..\n"
     ]
    },
    {
     "name": "stderr",
     "output_type": "stream",
     "text": [
      "100%|███████████████████████████████████████████████████████████| 92/92 [00:05<00:00, 18.35it/s, loss=0.317, acc=0.929]\n"
     ]
    },
    {
     "name": "stdout",
     "output_type": "stream",
     "text": [
      "loss 0.3056 -  acc 0.9340 - val_loss 0.3170 - val_acc 0.9290 \n",
      "Epoch [21/100]\n"
     ]
    },
    {
     "name": "stderr",
     "output_type": "stream",
     "text": [
      "100%|█████████████████████████████████████████████████████████| 364/364 [01:04<00:00,  5.64it/s, loss=0.295, acc=0.944]\n"
     ]
    },
    {
     "name": "stdout",
     "output_type": "stream",
     "text": [
      "train end ..\n"
     ]
    },
    {
     "name": "stderr",
     "output_type": "stream",
     "text": [
      "100%|███████████████████████████████████████████████████████████| 92/92 [00:05<00:00, 18.33it/s, loss=0.331, acc=0.923]\n"
     ]
    },
    {
     "name": "stdout",
     "output_type": "stream",
     "text": [
      "loss 0.2953 -  acc 0.9436 - val_loss 0.3313 - val_acc 0.9235 \n",
      "Epoch [22/100]\n"
     ]
    },
    {
     "name": "stderr",
     "output_type": "stream",
     "text": [
      "100%|█████████████████████████████████████████████████████████| 364/364 [01:05<00:00,  5.54it/s, loss=0.352, acc=0.889]\n"
     ]
    },
    {
     "name": "stdout",
     "output_type": "stream",
     "text": [
      "train end ..\n"
     ]
    },
    {
     "name": "stderr",
     "output_type": "stream",
     "text": [
      "100%|███████████████████████████████████████████████████████████| 92/92 [00:05<00:00, 18.34it/s, loss=0.343, acc=0.902]\n"
     ]
    },
    {
     "name": "stdout",
     "output_type": "stream",
     "text": [
      "loss 0.3518 -  acc 0.8886 - val_loss 0.3431 - val_acc 0.9016 \n",
      "Epoch [23/100]\n"
     ]
    },
    {
     "name": "stderr",
     "output_type": "stream",
     "text": [
      "100%|█████████████████████████████████████████████████████████| 364/364 [01:04<00:00,  5.63it/s, loss=0.302, acc=0.942]\n"
     ]
    },
    {
     "name": "stdout",
     "output_type": "stream",
     "text": [
      "train end ..\n"
     ]
    },
    {
     "name": "stderr",
     "output_type": "stream",
     "text": [
      "100%|███████████████████████████████████████████████████████████| 92/92 [00:04<00:00, 18.63it/s, loss=0.381, acc=0.842]\n"
     ]
    },
    {
     "name": "stdout",
     "output_type": "stream",
     "text": [
      "loss 0.3016 -  acc 0.9422 - val_loss 0.3809 - val_acc 0.8415 \n",
      "Epoch [24/100]\n"
     ]
    },
    {
     "name": "stderr",
     "output_type": "stream",
     "text": [
      "100%|██████████████████████████████████████████████████████████| 364/364 [01:05<00:00,  5.58it/s, loss=0.35, acc=0.894]\n"
     ]
    },
    {
     "name": "stdout",
     "output_type": "stream",
     "text": [
      "train end ..\n"
     ]
    },
    {
     "name": "stderr",
     "output_type": "stream",
     "text": [
      "100%|███████████████████████████████████████████████████████████| 92/92 [00:05<00:00, 18.26it/s, loss=0.337, acc=0.907]\n"
     ]
    },
    {
     "name": "stdout",
     "output_type": "stream",
     "text": [
      "loss 0.3500 -  acc 0.8941 - val_loss 0.3374 - val_acc 0.9071 \n",
      "Epoch [25/100]\n"
     ]
    },
    {
     "name": "stderr",
     "output_type": "stream",
     "text": [
      "100%|█████████████████████████████████████████████████████████| 364/364 [01:04<00:00,  5.63it/s, loss=0.314, acc=0.933]\n"
     ]
    },
    {
     "name": "stdout",
     "output_type": "stream",
     "text": [
      "train end ..\n"
     ]
    },
    {
     "name": "stderr",
     "output_type": "stream",
     "text": [
      "100%|███████████████████████████████████████████████████████████| 92/92 [00:04<00:00, 18.55it/s, loss=0.316, acc=0.934]\n"
     ]
    },
    {
     "name": "stdout",
     "output_type": "stream",
     "text": [
      "loss 0.3139 -  acc 0.9326 - val_loss 0.3162 - val_acc 0.9344 \n",
      "Epoch [26/100]\n"
     ]
    },
    {
     "name": "stderr",
     "output_type": "stream",
     "text": [
      "100%|█████████████████████████████████████████████████████████| 364/364 [01:05<00:00,  5.59it/s, loss=0.281, acc=0.949]\n"
     ]
    },
    {
     "name": "stdout",
     "output_type": "stream",
     "text": [
      "train end ..\n"
     ]
    },
    {
     "name": "stderr",
     "output_type": "stream",
     "text": [
      "100%|███████████████████████████████████████████████████████████| 92/92 [00:04<00:00, 18.59it/s, loss=0.335, acc=0.907]\n"
     ]
    },
    {
     "name": "stdout",
     "output_type": "stream",
     "text": [
      "loss 0.2811 -  acc 0.9491 - val_loss 0.3346 - val_acc 0.9071 \n",
      "Epoch [27/100]\n"
     ]
    },
    {
     "name": "stderr",
     "output_type": "stream",
     "text": [
      "100%|██████████████████████████████████████████████████████████| 364/364 [01:04<00:00,  5.60it/s, loss=0.28, acc=0.955]\n"
     ]
    },
    {
     "name": "stdout",
     "output_type": "stream",
     "text": [
      "train end ..\n"
     ]
    },
    {
     "name": "stderr",
     "output_type": "stream",
     "text": [
      "100%|█████████████████████████████████████████████████████████████| 92/92 [00:05<00:00, 18.24it/s, loss=0.3, acc=0.962]\n"
     ]
    },
    {
     "name": "stdout",
     "output_type": "stream",
     "text": [
      "loss 0.2799 -  acc 0.9546 - val_loss 0.2999 - val_acc 0.9617 \n",
      "=> saved best model\n",
      "Epoch [28/100]\n"
     ]
    },
    {
     "name": "stderr",
     "output_type": "stream",
     "text": [
      "100%|█████████████████████████████████████████████████████████| 364/364 [01:04<00:00,  5.67it/s, loss=0.263, acc=0.971]\n"
     ]
    },
    {
     "name": "stdout",
     "output_type": "stream",
     "text": [
      "train end ..\n"
     ]
    },
    {
     "name": "stderr",
     "output_type": "stream",
     "text": [
      "100%|███████████████████████████████████████████████████████████| 92/92 [00:05<00:00, 18.37it/s, loss=0.321, acc=0.934]\n"
     ]
    },
    {
     "name": "stdout",
     "output_type": "stream",
     "text": [
      "loss 0.2629 -  acc 0.9711 - val_loss 0.3213 - val_acc 0.9344 \n",
      "Epoch [29/100]\n"
     ]
    },
    {
     "name": "stderr",
     "output_type": "stream",
     "text": [
      "100%|█████████████████████████████████████████████████████████| 364/364 [01:05<00:00,  5.59it/s, loss=0.256, acc=0.978]\n"
     ]
    },
    {
     "name": "stdout",
     "output_type": "stream",
     "text": [
      "train end ..\n"
     ]
    },
    {
     "name": "stderr",
     "output_type": "stream",
     "text": [
      "100%|███████████████████████████████████████████████████████████| 92/92 [00:04<00:00, 18.41it/s, loss=0.346, acc=0.907]\n"
     ]
    },
    {
     "name": "stdout",
     "output_type": "stream",
     "text": [
      "loss 0.2559 -  acc 0.9780 - val_loss 0.3464 - val_acc 0.9071 \n",
      "Epoch [30/100]\n"
     ]
    },
    {
     "name": "stderr",
     "output_type": "stream",
     "text": [
      "100%|█████████████████████████████████████████████████████████| 364/364 [01:05<00:00,  5.60it/s, loss=0.271, acc=0.964]\n"
     ]
    },
    {
     "name": "stdout",
     "output_type": "stream",
     "text": [
      "train end ..\n"
     ]
    },
    {
     "name": "stderr",
     "output_type": "stream",
     "text": [
      "100%|███████████████████████████████████████████████████████████| 92/92 [00:04<00:00, 18.55it/s, loss=0.414, acc=0.885]\n"
     ]
    },
    {
     "name": "stdout",
     "output_type": "stream",
     "text": [
      "loss 0.2710 -  acc 0.9642 - val_loss 0.4139 - val_acc 0.8852 \n",
      "Epoch [31/100]\n"
     ]
    },
    {
     "name": "stderr",
     "output_type": "stream",
     "text": [
      "100%|██████████████████████████████████████████████████████████| 364/364 [01:05<00:00,  5.59it/s, loss=0.29, acc=0.952]\n"
     ]
    },
    {
     "name": "stdout",
     "output_type": "stream",
     "text": [
      "train end ..\n"
     ]
    },
    {
     "name": "stderr",
     "output_type": "stream",
     "text": [
      "100%|███████████████████████████████████████████████████████████| 92/92 [00:04<00:00, 18.90it/s, loss=0.341, acc=0.896]\n"
     ]
    },
    {
     "name": "stdout",
     "output_type": "stream",
     "text": [
      "loss 0.2896 -  acc 0.9519 - val_loss 0.3412 - val_acc 0.8962 \n",
      "Epoch [32/100]\n"
     ]
    },
    {
     "name": "stderr",
     "output_type": "stream",
     "text": [
      "100%|██████████████████████████████████████████████████████████| 364/364 [01:04<00:00,  5.62it/s, loss=0.265, acc=0.97]\n"
     ]
    },
    {
     "name": "stdout",
     "output_type": "stream",
     "text": [
      "train end ..\n"
     ]
    },
    {
     "name": "stderr",
     "output_type": "stream",
     "text": [
      "100%|███████████████████████████████████████████████████████████| 92/92 [00:04<00:00, 18.61it/s, loss=0.353, acc=0.902]\n"
     ]
    },
    {
     "name": "stdout",
     "output_type": "stream",
     "text": [
      "loss 0.2650 -  acc 0.9697 - val_loss 0.3534 - val_acc 0.9016 \n",
      "Epoch [33/100]\n"
     ]
    },
    {
     "name": "stderr",
     "output_type": "stream",
     "text": [
      "100%|█████████████████████████████████████████████████████████| 364/364 [01:05<00:00,  5.60it/s, loss=0.252, acc=0.977]\n"
     ]
    },
    {
     "name": "stdout",
     "output_type": "stream",
     "text": [
      "train end ..\n"
     ]
    },
    {
     "name": "stderr",
     "output_type": "stream",
     "text": [
      "100%|████████████████████████████████████████████████████████████| 92/92 [00:04<00:00, 18.57it/s, loss=0.314, acc=0.94]\n"
     ]
    },
    {
     "name": "stdout",
     "output_type": "stream",
     "text": [
      "loss 0.2520 -  acc 0.9766 - val_loss 0.3139 - val_acc 0.9399 \n",
      "Epoch [34/100]\n"
     ]
    },
    {
     "name": "stderr",
     "output_type": "stream",
     "text": [
      "100%|█████████████████████████████████████████████████████████| 364/364 [01:05<00:00,  5.52it/s, loss=0.262, acc=0.971]\n"
     ]
    },
    {
     "name": "stdout",
     "output_type": "stream",
     "text": [
      "train end ..\n"
     ]
    },
    {
     "name": "stderr",
     "output_type": "stream",
     "text": [
      "100%|███████████████████████████████████████████████████████████| 92/92 [00:05<00:00, 17.99it/s, loss=0.307, acc=0.934]\n"
     ]
    },
    {
     "name": "stdout",
     "output_type": "stream",
     "text": [
      "loss 0.2621 -  acc 0.9711 - val_loss 0.3069 - val_acc 0.9344 \n",
      "Epoch [35/100]\n"
     ]
    },
    {
     "name": "stderr",
     "output_type": "stream",
     "text": [
      "100%|█████████████████████████████████████████████████████████| 364/364 [01:04<00:00,  5.60it/s, loss=0.254, acc=0.981]\n"
     ]
    },
    {
     "name": "stdout",
     "output_type": "stream",
     "text": [
      "train end ..\n"
     ]
    },
    {
     "name": "stderr",
     "output_type": "stream",
     "text": [
      "100%|████████████████████████████████████████████████████████████| 92/92 [00:04<00:00, 18.64it/s, loss=0.315, acc=0.94]\n"
     ]
    },
    {
     "name": "stdout",
     "output_type": "stream",
     "text": [
      "loss 0.2543 -  acc 0.9807 - val_loss 0.3153 - val_acc 0.9399 \n",
      "Epoch [36/100]\n"
     ]
    },
    {
     "name": "stderr",
     "output_type": "stream",
     "text": [
      "100%|█████████████████████████████████████████████████████████| 364/364 [01:06<00:00,  5.51it/s, loss=0.259, acc=0.975]\n"
     ]
    },
    {
     "name": "stdout",
     "output_type": "stream",
     "text": [
      "train end ..\n"
     ]
    },
    {
     "name": "stderr",
     "output_type": "stream",
     "text": [
      "100%|███████████████████████████████████████████████████████████| 92/92 [00:04<00:00, 18.59it/s, loss=0.334, acc=0.929]\n"
     ]
    },
    {
     "name": "stdout",
     "output_type": "stream",
     "text": [
      "loss 0.2589 -  acc 0.9752 - val_loss 0.3343 - val_acc 0.9290 \n",
      "Epoch [37/100]\n"
     ]
    },
    {
     "name": "stderr",
     "output_type": "stream",
     "text": [
      "100%|█████████████████████████████████████████████████████████| 364/364 [01:05<00:00,  5.56it/s, loss=0.245, acc=0.988]\n"
     ]
    },
    {
     "name": "stdout",
     "output_type": "stream",
     "text": [
      "train end ..\n"
     ]
    },
    {
     "name": "stderr",
     "output_type": "stream",
     "text": [
      "100%|███████████████████████████████████████████████████████████| 92/92 [00:04<00:00, 18.70it/s, loss=0.322, acc=0.945]\n"
     ]
    },
    {
     "name": "stdout",
     "output_type": "stream",
     "text": [
      "loss 0.2448 -  acc 0.9876 - val_loss 0.3221 - val_acc 0.9454 \n",
      "Epoch [38/100]\n"
     ]
    },
    {
     "name": "stderr",
     "output_type": "stream",
     "text": [
      "100%|█████████████████████████████████████████████████████████| 364/364 [01:04<00:00,  5.62it/s, loss=0.263, acc=0.977]\n"
     ]
    },
    {
     "name": "stdout",
     "output_type": "stream",
     "text": [
      "train end ..\n"
     ]
    },
    {
     "name": "stderr",
     "output_type": "stream",
     "text": [
      "100%|████████████████████████████████████████████████████████████| 92/92 [00:04<00:00, 19.16it/s, loss=0.329, acc=0.94]\n"
     ]
    },
    {
     "name": "stdout",
     "output_type": "stream",
     "text": [
      "loss 0.2627 -  acc 0.9766 - val_loss 0.3286 - val_acc 0.9399 \n",
      "Epoch [39/100]\n"
     ]
    },
    {
     "name": "stderr",
     "output_type": "stream",
     "text": [
      "100%|█████████████████████████████████████████████████████████| 364/364 [01:04<00:00,  5.61it/s, loss=0.242, acc=0.992]\n"
     ]
    },
    {
     "name": "stdout",
     "output_type": "stream",
     "text": [
      "train end ..\n"
     ]
    },
    {
     "name": "stderr",
     "output_type": "stream",
     "text": [
      "100%|████████████████████████████████████████████████████████████| 92/92 [00:04<00:00, 18.67it/s, loss=0.31, acc=0.945]\n"
     ]
    },
    {
     "name": "stdout",
     "output_type": "stream",
     "text": [
      "loss 0.2418 -  acc 0.9917 - val_loss 0.3102 - val_acc 0.9454 \n",
      "Epoch [40/100]\n"
     ]
    },
    {
     "name": "stderr",
     "output_type": "stream",
     "text": [
      "100%|█████████████████████████████████████████████████████████| 364/364 [01:05<00:00,  5.54it/s, loss=0.286, acc=0.956]\n"
     ]
    },
    {
     "name": "stdout",
     "output_type": "stream",
     "text": [
      "train end ..\n"
     ]
    },
    {
     "name": "stderr",
     "output_type": "stream",
     "text": [
      "100%|███████████████████████████████████████████████████████████| 92/92 [00:04<00:00, 18.69it/s, loss=0.332, acc=0.913]\n"
     ]
    },
    {
     "name": "stdout",
     "output_type": "stream",
     "text": [
      "loss 0.2861 -  acc 0.9560 - val_loss 0.3316 - val_acc 0.9126 \n",
      "Epoch [41/100]\n"
     ]
    },
    {
     "name": "stderr",
     "output_type": "stream",
     "text": [
      "100%|█████████████████████████████████████████████████████████| 364/364 [01:04<00:00,  5.60it/s, loss=0.258, acc=0.983]\n"
     ]
    },
    {
     "name": "stdout",
     "output_type": "stream",
     "text": [
      "train end ..\n"
     ]
    },
    {
     "name": "stderr",
     "output_type": "stream",
     "text": [
      "100%|███████████████████████████████████████████████████████████| 92/92 [00:05<00:00, 18.25it/s, loss=0.386, acc=0.896]\n"
     ]
    },
    {
     "name": "stdout",
     "output_type": "stream",
     "text": [
      "loss 0.2581 -  acc 0.9835 - val_loss 0.3860 - val_acc 0.8962 \n",
      "Epoch [42/100]\n"
     ]
    },
    {
     "name": "stderr",
     "output_type": "stream",
     "text": [
      " 20%|███████████▍                                              | 72/364 [00:13<00:51,  5.72it/s, loss=0.294, acc=0.944]"
     ]
    },
    {
     "ename": "KeyboardInterrupt",
     "evalue": "",
     "output_type": "error",
     "traceback": [
      "\u001b[1;31m---------------------------------------------------------------------------\u001b[0m",
      "\u001b[1;31mKeyboardInterrupt\u001b[0m                         Traceback (most recent call last)",
      "Cell \u001b[1;32mIn[16], line 6\u001b[0m\n\u001b[0;32m      3\u001b[0m \u001b[38;5;28mprint\u001b[39m(\u001b[38;5;124m'\u001b[39m\u001b[38;5;124mEpoch [\u001b[39m\u001b[38;5;132;01m%d\u001b[39;00m\u001b[38;5;124m/\u001b[39m\u001b[38;5;132;01m%d\u001b[39;00m\u001b[38;5;124m]\u001b[39m\u001b[38;5;124m'\u001b[39m \u001b[38;5;241m%\u001b[39m (epoch, config[\u001b[38;5;124m'\u001b[39m\u001b[38;5;124mepochs\u001b[39m\u001b[38;5;124m'\u001b[39m]))\n\u001b[0;32m      5\u001b[0m \u001b[38;5;66;03m# train for one epoch\u001b[39;00m\n\u001b[1;32m----> 6\u001b[0m train_log \u001b[38;5;241m=\u001b[39m \u001b[43mtrain\u001b[49m\u001b[43m(\u001b[49m\u001b[43mconfig\u001b[49m\u001b[43m,\u001b[49m\u001b[43m \u001b[49m\u001b[43mtrain_loader\u001b[49m\u001b[43m,\u001b[49m\u001b[43m \u001b[49m\u001b[43mmodel\u001b[49m\u001b[43m,\u001b[49m\u001b[43m \u001b[49m\u001b[43mcriterion\u001b[49m\u001b[43m,\u001b[49m\u001b[43m \u001b[49m\u001b[43moptimizer\u001b[49m\u001b[43m)\u001b[49m\n\u001b[0;32m      7\u001b[0m \u001b[38;5;66;03m# evaluate on validation set\u001b[39;00m\n\u001b[0;32m      8\u001b[0m val_log \u001b[38;5;241m=\u001b[39m validate(config, val_loader, model, criterion)\n",
      "Cell \u001b[1;32mIn[12], line 27\u001b[0m, in \u001b[0;36mtrain\u001b[1;34m(config, train_loader, model, criterion, optimizer)\u001b[0m\n\u001b[0;32m     25\u001b[0m \u001b[38;5;66;03m# compute gradient and do optimizing step\u001b[39;00m\n\u001b[0;32m     26\u001b[0m optimizer\u001b[38;5;241m.\u001b[39mzero_grad()\n\u001b[1;32m---> 27\u001b[0m \u001b[43mloss\u001b[49m\u001b[38;5;241;43m.\u001b[39;49m\u001b[43mbackward\u001b[49m\u001b[43m(\u001b[49m\u001b[43m)\u001b[49m\n\u001b[0;32m     28\u001b[0m optimizer\u001b[38;5;241m.\u001b[39mstep()\n\u001b[0;32m     30\u001b[0m avg_meters[\u001b[38;5;124m'\u001b[39m\u001b[38;5;124mloss\u001b[39m\u001b[38;5;124m'\u001b[39m]\u001b[38;5;241m.\u001b[39mupdate(loss\u001b[38;5;241m.\u001b[39mitem(), input1\u001b[38;5;241m.\u001b[39msize(\u001b[38;5;241m0\u001b[39m))\n",
      "File \u001b[1;32mD:\\Anaconda3\\envs\\meproj\\lib\\site-packages\\torch\\_tensor.py:487\u001b[0m, in \u001b[0;36mTensor.backward\u001b[1;34m(self, gradient, retain_graph, create_graph, inputs)\u001b[0m\n\u001b[0;32m    477\u001b[0m \u001b[38;5;28;01mif\u001b[39;00m has_torch_function_unary(\u001b[38;5;28mself\u001b[39m):\n\u001b[0;32m    478\u001b[0m     \u001b[38;5;28;01mreturn\u001b[39;00m handle_torch_function(\n\u001b[0;32m    479\u001b[0m         Tensor\u001b[38;5;241m.\u001b[39mbackward,\n\u001b[0;32m    480\u001b[0m         (\u001b[38;5;28mself\u001b[39m,),\n\u001b[1;32m   (...)\u001b[0m\n\u001b[0;32m    485\u001b[0m         inputs\u001b[38;5;241m=\u001b[39minputs,\n\u001b[0;32m    486\u001b[0m     )\n\u001b[1;32m--> 487\u001b[0m \u001b[43mtorch\u001b[49m\u001b[38;5;241;43m.\u001b[39;49m\u001b[43mautograd\u001b[49m\u001b[38;5;241;43m.\u001b[39;49m\u001b[43mbackward\u001b[49m\u001b[43m(\u001b[49m\n\u001b[0;32m    488\u001b[0m \u001b[43m    \u001b[49m\u001b[38;5;28;43mself\u001b[39;49m\u001b[43m,\u001b[49m\u001b[43m \u001b[49m\u001b[43mgradient\u001b[49m\u001b[43m,\u001b[49m\u001b[43m \u001b[49m\u001b[43mretain_graph\u001b[49m\u001b[43m,\u001b[49m\u001b[43m \u001b[49m\u001b[43mcreate_graph\u001b[49m\u001b[43m,\u001b[49m\u001b[43m \u001b[49m\u001b[43minputs\u001b[49m\u001b[38;5;241;43m=\u001b[39;49m\u001b[43minputs\u001b[49m\n\u001b[0;32m    489\u001b[0m \u001b[43m\u001b[49m\u001b[43m)\u001b[49m\n",
      "File \u001b[1;32mD:\\Anaconda3\\envs\\meproj\\lib\\site-packages\\torch\\autograd\\__init__.py:200\u001b[0m, in \u001b[0;36mbackward\u001b[1;34m(tensors, grad_tensors, retain_graph, create_graph, grad_variables, inputs)\u001b[0m\n\u001b[0;32m    195\u001b[0m     retain_graph \u001b[38;5;241m=\u001b[39m create_graph\n\u001b[0;32m    197\u001b[0m \u001b[38;5;66;03m# The reason we repeat same the comment below is that\u001b[39;00m\n\u001b[0;32m    198\u001b[0m \u001b[38;5;66;03m# some Python versions print out the first line of a multi-line function\u001b[39;00m\n\u001b[0;32m    199\u001b[0m \u001b[38;5;66;03m# calls in the traceback and some print out the last line\u001b[39;00m\n\u001b[1;32m--> 200\u001b[0m \u001b[43mVariable\u001b[49m\u001b[38;5;241;43m.\u001b[39;49m\u001b[43m_execution_engine\u001b[49m\u001b[38;5;241;43m.\u001b[39;49m\u001b[43mrun_backward\u001b[49m\u001b[43m(\u001b[49m\u001b[43m  \u001b[49m\u001b[38;5;66;43;03m# Calls into the C++ engine to run the backward pass\u001b[39;49;00m\n\u001b[0;32m    201\u001b[0m \u001b[43m    \u001b[49m\u001b[43mtensors\u001b[49m\u001b[43m,\u001b[49m\u001b[43m \u001b[49m\u001b[43mgrad_tensors_\u001b[49m\u001b[43m,\u001b[49m\u001b[43m \u001b[49m\u001b[43mretain_graph\u001b[49m\u001b[43m,\u001b[49m\u001b[43m \u001b[49m\u001b[43mcreate_graph\u001b[49m\u001b[43m,\u001b[49m\u001b[43m \u001b[49m\u001b[43minputs\u001b[49m\u001b[43m,\u001b[49m\n\u001b[0;32m    202\u001b[0m \u001b[43m    \u001b[49m\u001b[43mallow_unreachable\u001b[49m\u001b[38;5;241;43m=\u001b[39;49m\u001b[38;5;28;43;01mTrue\u001b[39;49;00m\u001b[43m,\u001b[49m\u001b[43m \u001b[49m\u001b[43maccumulate_grad\u001b[49m\u001b[38;5;241;43m=\u001b[39;49m\u001b[38;5;28;43;01mTrue\u001b[39;49;00m\u001b[43m)\u001b[49m\n",
      "\u001b[1;31mKeyboardInterrupt\u001b[0m: "
     ]
    }
   ],
   "source": [
    "for epoch in range(config['epochs']):\n",
    "    torch.cuda.empty_cache()\n",
    "    print('Epoch [%d/%d]' % (epoch, config['epochs']))\n",
    "\n",
    "    # train for one epoch\n",
    "    train_log = train(config, train_loader, model, criterion, optimizer)\n",
    "    # evaluate on validation set\n",
    "    val_log = validate(config, val_loader, model, criterion)\n",
    "\n",
    "    if config['scheduler'] == 'CosineAnnealingLR':\n",
    "        scheduler.step()\n",
    "    elif config['scheduler'] == 'ReduceLROnPlateau':\n",
    "        scheduler.step(val_log['loss'])\n",
    "\n",
    "    print('loss %.4f -  acc %.4f - val_loss %.4f - val_acc %.4f '\n",
    "          % (train_log['loss'], train_log['acc'], val_log['loss'], val_log['acc'] ))\n",
    "\n",
    "    log['epoch'].append(epoch)\n",
    "    log['lr'].append(config['lr'])\n",
    "    log['loss'].append(train_log['loss'])\n",
    "    log['acc'].append(train_log['acc'])\n",
    "\n",
    "    log['val_loss'].append(val_log['loss'])\n",
    "    log['val_acc'].append(val_log['acc'])\n",
    "\n",
    "\n",
    "    pd.DataFrame(log).to_csv('models/%s/log.csv' %\n",
    "                             config['name'], index=False)\n",
    "\n",
    "    trigger += 1\n",
    "\n",
    "    if val_log['acc'] > best_acc:\n",
    "        torch.save(model.state_dict(), 'models/%s/model.pth' %\n",
    "                   config['name'])\n",
    "        best_acc = val_log['acc']\n",
    "        print(\"=> saved best model\")\n",
    "        #torch.save(model, 'D:/PythonProject/ESFPNet/ESFPNet-main/models/test_Classification_wDS_f/class_ESFPNet.pt')\n",
    "        trigger = 0\n",
    "\n",
    "    # early stopping\n",
    "    if config['early_stopping'] >= 0 and trigger >= config['early_stopping']:\n",
    "        print(\"=> early stopping\")\n",
    "        break\n",
    "\n",
    "    torch.cuda.empty_cache()"
   ]
  },
  {
   "cell_type": "code",
   "execution_count": null,
   "id": "6f265fa9",
   "metadata": {},
   "outputs": [],
   "source": []
  }
 ],
 "metadata": {
  "kernelspec": {
   "display_name": "meproj",
   "language": "python",
   "name": "meproj"
  },
  "language_info": {
   "codemirror_mode": {
    "name": "ipython",
    "version": 3
   },
   "file_extension": ".py",
   "mimetype": "text/x-python",
   "name": "python",
   "nbconvert_exporter": "python",
   "pygments_lexer": "ipython3",
   "version": "3.8.17"
  },
  "toc": {
   "base_numbering": 1,
   "nav_menu": {},
   "number_sections": true,
   "sideBar": true,
   "skip_h1_title": false,
   "title_cell": "Table of Contents",
   "title_sidebar": "Contents",
   "toc_cell": false,
   "toc_position": {},
   "toc_section_display": true,
   "toc_window_display": false
  },
  "varInspector": {
   "cols": {
    "lenName": 16,
    "lenType": 16,
    "lenVar": 40
   },
   "kernels_config": {
    "python": {
     "delete_cmd_postfix": "",
     "delete_cmd_prefix": "del ",
     "library": "var_list.py",
     "varRefreshCmd": "print(var_dic_list())"
    },
    "r": {
     "delete_cmd_postfix": ") ",
     "delete_cmd_prefix": "rm(",
     "library": "var_list.r",
     "varRefreshCmd": "cat(var_dic_list()) "
    }
   },
   "types_to_exclude": [
    "module",
    "function",
    "builtin_function_or_method",
    "instance",
    "_Feature"
   ],
   "window_display": false
  }
 },
 "nbformat": 4,
 "nbformat_minor": 5
}
